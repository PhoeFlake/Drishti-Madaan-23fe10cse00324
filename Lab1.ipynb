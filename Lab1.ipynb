{
 "cells": [
  {
   "cell_type": "markdown",
   "id": "ed95e29c-d484-4894-a235-4ac86d9792e6",
   "metadata": {},
   "source": [
    "# LAB 1"
   ]
  },
  {
   "cell_type": "markdown",
   "id": "9fd5b07f-d8e8-4649-8781-eb83638cef68",
   "metadata": {},
   "source": [
    "### Q1 Print the following\n",
    "#### a) print your first name\n",
    "#### b) print your last name\n",
    "#### c) print your complete name"
   ]
  },
  {
   "cell_type": "code",
   "execution_count": 6,
   "id": "4980ad9c-f7e5-479d-94f0-78017166de3e",
   "metadata": {},
   "outputs": [
    {
     "name": "stdin",
     "output_type": "stream",
     "text": [
      "Enter your First name:  Drishti\n"
     ]
    },
    {
     "name": "stdout",
     "output_type": "stream",
     "text": [
      "Drishti\n"
     ]
    }
   ],
   "source": [
    "# (a)\n",
    "firstname = input(\"Enter your First name: \")\n",
    "print(firstname)"
   ]
  },
  {
   "cell_type": "code",
   "execution_count": 8,
   "id": "a345ba3a-cc94-4be7-89b4-eb0cae8bd1bc",
   "metadata": {},
   "outputs": [
    {
     "name": "stdin",
     "output_type": "stream",
     "text": [
      "Enter your Last name:  Madaan\n"
     ]
    },
    {
     "name": "stdout",
     "output_type": "stream",
     "text": [
      "Madaan\n"
     ]
    }
   ],
   "source": [
    "# (b) \n",
    "lastname = input(\"Enter your Last name: \")\n",
    "print(lastname)"
   ]
  },
  {
   "cell_type": "code",
   "execution_count": 12,
   "id": "9a38b788-4af9-4f21-9f3e-be20c70e4c19",
   "metadata": {},
   "outputs": [
    {
     "name": "stdout",
     "output_type": "stream",
     "text": [
      "Drishti Madaan\n"
     ]
    }
   ],
   "source": [
    "# (c)\n",
    "fullname = f\"{firstname} {lastname}\"\n",
    "print(fullname)"
   ]
  },
  {
   "cell_type": "code",
   "execution_count": null,
   "id": "0fcd7476-b3eb-4758-a6e8-2acb6b6ebc9f",
   "metadata": {},
   "outputs": [],
   "source": []
  }
 ],
 "metadata": {
  "kernelspec": {
   "display_name": "Python 3 (ipykernel)",
   "language": "python",
   "name": "python3"
  },
  "language_info": {
   "codemirror_mode": {
    "name": "ipython",
    "version": 3
   },
   "file_extension": ".py",
   "mimetype": "text/x-python",
   "name": "python",
   "nbconvert_exporter": "python",
   "pygments_lexer": "ipython3",
   "version": "3.12.4"
  }
 },
 "nbformat": 4,
 "nbformat_minor": 5
}
