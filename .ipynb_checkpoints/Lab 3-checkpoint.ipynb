{
 "cells": [
  {
   "cell_type": "markdown",
   "id": "7d006136-949e-469a-80b3-6195319028d0",
   "metadata": {},
   "source": [
    "# Lab 3"
   ]
  },
  {
   "cell_type": "markdown",
   "id": "e46ff2d8-3357-4283-a4eb-09118756a1a0",
   "metadata": {},
   "source": [
    "### Q1. 1. WAP to find a number is Prime or not."
   ]
  },
  {
   "cell_type": "code",
   "execution_count": null,
   "id": "0d12c5d4-fdde-4535-b2a5-8d5ea9adda15",
   "metadata": {},
   "outputs": [],
   "source": [
    "number = int(input(\"Enter a number: \"))\n",
    "\n",
    "if number > 1:\n",
    "    is_prime = True\n",
    "    for i in range(2, int(number ** 0.5) + 1):\n",
    "        if number % i == 0:\n",
    "            is_prime = False\n",
    "            break  \n",
    "    if is_prime:\n",
    "        print(f\"{number} is a prime number.\")\n",
    "    else:\n",
    "        print(f\"{number} is not a prime number.\")\n",
    "else:\n",
    "    print(f\"{number} is not a prime number.\")"
   ]
  },
  {
   "cell_type": "markdown",
   "id": "75559c8b-98b7-4185-9517-a5afd893dfae",
   "metadata": {},
   "source": [
    "### Q2. WAP to find the given number is palindrome or not."
   ]
  },
  {
   "cell_type": "code",
   "execution_count": null,
   "id": "af4b9e4d-6b64-4405-8245-039cd262d3b6",
   "metadata": {},
   "outputs": [],
   "source": [
    "number = input(\"Enter a number: \")\n",
    "\n",
    "reversed_number = number[::-1]\n",
    "\n",
    "if number == reversed_number:\n",
    "    print(f\"{number} is a palindrome.\")\n",
    "else:\n",
    "    print(f\"{number} is not a palindrome.\")\n"
   ]
  },
  {
   "cell_type": "markdown",
   "id": "d7cba0d5-0d75-4bfb-b4a3-fab335b0fd84",
   "metadata": {},
   "source": [
    "### Q3. WAP to find the grade of student using given percentage"
   ]
  },
  {
   "cell_type": "code",
   "execution_count": null,
   "id": "aa8c8826-8917-4804-b4c7-a6539949a94d",
   "metadata": {},
   "outputs": [],
   "source": [
    "percentage = float(input(\"Enter the percentage: \"))\n",
    "\n",
    "if percentage >= 90:\n",
    "    grade = 'A'\n",
    "elif percentage >= 80:\n",
    "    grade = 'B'\n",
    "elif percentage >= 70:\n",
    "    grade = 'C'\n",
    "elif percentage >= 60:\n",
    "    grade = 'D'\n",
    "elif percentage >= 50:\n",
    "    grade = 'E'\n",
    "else:\n",
    "    grade = 'F'\n",
    "\n",
    "print(f\"Grade: {grade}\")"
   ]
  },
  {
   "cell_type": "markdown",
   "id": "ce5330ff-6467-4599-80a1-22af062cf446",
   "metadata": {},
   "source": [
    "### Q4. WAP to create a simple console base alculator"
   ]
  },
  {
   "cell_type": "code",
   "execution_count": null,
   "id": "8f75e1f2-eef1-47db-bc78-0d41435c87cc",
   "metadata": {},
   "outputs": [],
   "source": [
    "print(\"Simple Calculator\")\n",
    "print(\"Choose operation:\")\n",
    "print(\"1. Addition\")\n",
    "print(\"2. Subtraction\")\n",
    "print(\"3. Multiplication\")\n",
    "print(\"4. Division\")\n",
    "\n",
    "operation = input(\"Enter choice (1/2/3/4): \")\n",
    "\n",
    "num1 = float(input(\"Enter first number: \"))\n",
    "num2 = float(input(\"Enter second number: \"))\n",
    "\n",
    "if operation == '1':\n",
    "    result = num1 + num2\n",
    "    print(f\"The result of addition is: {result}\")\n",
    "elif operation == '2':\n",
    "    result = num1 - num2\n",
    "    print(f\"The result of subtraction is: {result}\")\n",
    "elif operation == '3':\n",
    "    result = num1 * num2\n",
    "    print(f\"The result of multiplication is: {result}\")\n",
    "elif operation == '4':\n",
    "    if num2 != 0:\n",
    "        result = num1 / num2\n",
    "        print(f\"The result of division is: {result}\")\n",
    "    else:\n",
    "        print(\"Error: Division by zero is not allowed.\")\n",
    "else:\n",
    "    print(\"Invalid input! Please enter a number between 1 and 4.\")"
   ]
  },
  {
   "cell_type": "markdown",
   "id": "1d8cbde1-696c-47cc-b819-65f284432ff4",
   "metadata": {},
   "source": [
    "### Q5. Write a program that takes the user's full name, their father's name, and registration number as a single input string and then prints the middles name of the user."
   ]
  },
  {
   "cell_type": "code",
   "execution_count": 19,
   "id": "9b738b2d-1f0b-40df-ae6e-6371b5fd9f46",
   "metadata": {},
   "outputs": [
    {
     "name": "stdin",
     "output_type": "stream",
     "text": [
      "Enter your name, your father's name, and your reg no.:  Drishti S Madaan, Sandeep, 3232\n"
     ]
    },
    {
     "name": "stdout",
     "output_type": "stream",
     "text": [
      "Middle Name: S\n"
     ]
    }
   ],
   "source": [
    "a = input(\"Enter your name, your father's name, and your reg no.: \")\n",
    "\n",
    "firstname = \"\"\n",
    "middlename = \"\"\n",
    "lastname = \"\"\n",
    "x = 0\n",
    "while x < len(a) and a[x] != ' ':\n",
    "    firstname += a[x]\n",
    "    x += 1\n",
    "x += 1\n",
    "while x < len(a) and a[x] != ' ':\n",
    "    middlename += a[x]\n",
    "    x += 1\n",
    "x += 1\n",
    "while x < len(a) and x < len(a):\n",
    "    lastname += a[x]\n",
    "    x += 1\n",
    "\n",
    "print(\"Middle Name:\", middlename)\n"
   ]
  },
  {
   "cell_type": "code",
   "execution_count": null,
   "id": "c4ce5057-7bbd-405a-b2e4-33f04bbb2eb1",
   "metadata": {},
   "outputs": [],
   "source": []
  }
 ],
 "metadata": {
  "kernelspec": {
   "display_name": "Python 3 (ipykernel)",
   "language": "python",
   "name": "python3"
  },
  "language_info": {
   "codemirror_mode": {
    "name": "ipython",
    "version": 3
   },
   "file_extension": ".py",
   "mimetype": "text/x-python",
   "name": "python",
   "nbconvert_exporter": "python",
   "pygments_lexer": "ipython3",
   "version": "3.12.4"
  }
 },
 "nbformat": 4,
 "nbformat_minor": 5
}
