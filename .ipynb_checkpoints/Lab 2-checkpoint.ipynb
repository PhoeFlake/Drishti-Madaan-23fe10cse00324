{
 "cells": [
  {
   "cell_type": "markdown",
   "id": "925c4b51-c083-4f67-8b81-a07f767fd8d6",
   "metadata": {},
   "source": [
    "# LAB 2"
   ]
  },
  {
   "cell_type": "markdown",
   "id": "9677fbb2-253a-4eaf-8183-d17c4cb1134e",
   "metadata": {},
   "source": [
    "### Q1. Write a program to read and print values of variables of different data type with    their type."
   ]
  },
  {
   "cell_type": "code",
   "execution_count": 7,
   "id": "0bcf22bf-21bf-445b-83ea-d647aa177d36",
   "metadata": {},
   "outputs": [
    {
     "name": "stdout",
     "output_type": "stream",
     "text": [
      "a = 10 and its type is <class 'int'>\n",
      "b = 10.5 and its type is <class 'float'>\n",
      "c = Hello and its type is <class 'str'>\n",
      "d = True and its type is <class 'bool'>\n"
     ]
    }
   ],
   "source": [
    "a = 10\n",
    "b = 10.5\n",
    "c = \"Hello\"\n",
    "d = True\n",
    "\n",
    "print(\"a =\", a, \"and its type is\", type(a))\n",
    "print(\"b =\", b, \"and its type is\", type(b))\n",
    "print(\"c =\", c, \"and its type is\", type(c))\n",
    "print(\"d =\", d, \"and its type is\", type(d))"
   ]
  },
  {
   "cell_type": "markdown",
   "id": "4885e439-aa46-4c75-81df-36103277766f",
   "metadata": {},
   "source": [
    "### Q2. Write a program to perform addition, subtraction, multiplication, division on a floating point number and print the result up to two places of decimal."
   ]
  },
  {
   "cell_type": "code",
   "execution_count": 32,
   "id": "9e39dcf9-7549-4db3-b298-04073565c973",
   "metadata": {},
   "outputs": [
    {
     "name": "stdout",
     "output_type": "stream",
     "text": [
      "Addition: 7.75\n",
      "Subtraction: 2.75\n",
      "Multiplication: 13.12\n",
      "Division: 2.10\n"
     ]
    }
   ],
   "source": [
    "num1 = 5.25\n",
    "num2 = 2.50\n",
    "\n",
    "print(f\"Addition: {num1 + num2:.2f}\")\n",
    "## or\n",
    "print(\"Subtraction: {:.2f}\".format(num1 - num2))\n",
    "print(\"Multiplication: {:.2f}\".format(num1 * num2))\n",
    "print(\"Division: {:.2f}\".format(num1 / num2))"
   ]
  },
  {
   "cell_type": "markdown",
   "id": "459079dd-08a4-4688-b190-cb80b6933994",
   "metadata": {},
   "source": [
    "### Q3. Write a program to demonstrate different data types and arithmetic operations."
   ]
  },
  {
   "cell_type": "code",
   "execution_count": 17,
   "id": "95d23386-1c4f-43e1-ba34-aff2e290f07c",
   "metadata": {},
   "outputs": [
    {
     "name": "stdout",
     "output_type": "stream",
     "text": [
      "Addition: 23.5\n",
      "Subtraction: 16.5\n",
      "Multiplication: 70.0\n",
      "String operation: HelloHello\n"
     ]
    }
   ],
   "source": [
    "x = 20\n",
    "y = 3.5\n",
    "z = \"Hello\" \n",
    "\n",
    "print(\"Addition:\", x + y)\n",
    "print(\"Subtraction:\", x - y)\n",
    "print(\"Multiplication:\", x * y)\n",
    "print(\"String operation:\", z * 2)\n"
   ]
  },
  {
   "cell_type": "markdown",
   "id": "ae78cdc8-23ab-4853-b738-b79fe3ebadc9",
   "metadata": {},
   "source": [
    "### Q4. Write a program to find the average of two numbers and print their deviation."
   ]
  },
  {
   "cell_type": "code",
   "execution_count": 22,
   "id": "c76f58da-c198-46ff-9045-cd2763eb6e39",
   "metadata": {},
   "outputs": [
    {
     "name": "stdout",
     "output_type": "stream",
     "text": [
      "Average: 37.5\n",
      "Deviation of first number: 7.5\n"
     ]
    }
   ],
   "source": [
    "num1 = 45\n",
    "num2 = 30\n",
    "\n",
    "avg = (num1 + num2) / 2\n",
    "deviation = num1 - avg\n",
    "\n",
    "print(\"Average:\", avg)\n",
    "print(\"Deviation of first number:\", deviation)\n"
   ]
  },
  {
   "cell_type": "markdown",
   "id": "3ebb464a-099e-4b7d-b9b5-11c328a0f050",
   "metadata": {},
   "source": [
    "### Q5.  Write a program to prepare a grocery bill."
   ]
  },
  {
   "cell_type": "code",
   "execution_count": null,
   "id": "be820890-ebd8-4295-bd2c-1525c126b367",
   "metadata": {},
   "outputs": [],
   "source": [
    "item_name = \"Rice\"\n",
    "item_quantity = 5 \n",
    "item_price = 30.50\n",
    "\n",
    "total_amount = item_quantity * item_price\n",
    "\n",
    "print(\"***********BILL************\")\n",
    "print(\"Item Name\\tItem Quantity\\tItem Price\")\n",
    "print(f\"{item_name}\\t\\t{item_quantity} kg\\t\\t{item_price} per kg\")\n",
    "print(\"****************************\")\n",
    "print(f\"Total Amount to be paid: Rs. {total_amount:.2f}\")\n",
    "print(\"****************************\")"
   ]
  },
  {
   "cell_type": "markdown",
   "id": "35702089-40bb-4716-9e14-b4c2369c7f87",
   "metadata": {},
   "source": [
    "### Q6. Write a program to calculate the area of a circle by taking pi as a constant variable "
   ]
  },
  {
   "cell_type": "code",
   "execution_count": 2,
   "id": "39570614-aba8-4633-8d15-8aa7330cfc81",
   "metadata": {},
   "outputs": [
    {
     "name": "stdout",
     "output_type": "stream",
     "text": [
      "Area of the circle: 153.93791\n"
     ]
    }
   ],
   "source": [
    "from constants import PI\n",
    "\n",
    "radius = 7\n",
    "area = PI * radius ** 2\n",
    "print(\"Area of the circle:\", area)"
   ]
  },
  {
   "cell_type": "markdown",
   "id": "495a00ae-f165-42d8-83c1-759deaa89d4d",
   "metadata": {},
   "source": [
    " ### Q7. Write a program to compute the distance between two points."
   ]
  },
  {
   "cell_type": "code",
   "execution_count": 5,
   "id": "c10e9a6c-ba37-4941-a8c2-5368f55a789c",
   "metadata": {},
   "outputs": [
    {
     "name": "stdout",
     "output_type": "stream",
     "text": [
      "Distance between two points: 5.0\n"
     ]
    }
   ],
   "source": [
    "x1, y1 = 2, 3\n",
    "x2, y2 = 5, 7\n",
    "\n",
    "distance = ((x2 - x1)**2 + (y2 - y1)**2)**0.5\n",
    "print(\"Distance between two points:\", distance)"
   ]
  },
  {
   "cell_type": "markdown",
   "id": "48e12704-b01a-4bc1-a91d-5d5dc2d93013",
   "metadata": {},
   "source": [
    "### Q8. Write a program to input a list of 25 elements at random, calculate mean, median, mode, and then slice it into 5 lists and merge the even and odd sliced lists."
   ]
  },
  {
   "cell_type": "code",
   "execution_count": 31,
   "id": "af1a66a0-6938-42b8-b3f2-96cc435bae25",
   "metadata": {},
   "outputs": [
    {
     "name": "stdout",
     "output_type": "stream",
     "text": [
      "\n",
      "Mean: 13.96\n",
      "Median: 14\n",
      "Mode: [9, 11]\n",
      "\n",
      "Sliced List: \n",
      "[2, 4, 6, 7, 9]\n",
      "[9, 9, 10, 11, 11]\n",
      "[11, 13, 14, 14, 15]\n",
      "[15, 16, 18, 19, 21]\n",
      "[22, 22, 23, 24, 24]\n",
      "\n",
      "Odd Sliced List: \n",
      "[2, 4, 6, 7, 9]\n",
      "[11, 13, 14, 14, 15]\n",
      "[22, 22, 23, 24, 24]\n",
      "\n",
      "Even Sliced List: \n",
      "[9, 9, 10, 11, 11]\n",
      "[15, 16, 18, 19, 21]\n"
     ]
    }
   ],
   "source": [
    "import random\n",
    "elements = []\n",
    "for i in range(25):\n",
    "    elements.append(random.randint(1, 25))\n",
    "z = 0\n",
    "for number in elements:\n",
    "    z += number\n",
    "mean = z / len(elements)\n",
    "print(\"\\nMean:\", mean)\n",
    "\n",
    "elements.sort() \n",
    "if len(elements) % 2 == 0:\n",
    "    median = (elements[len(elements)//2 - 1] + elements[len(elements)//2]) / 2\n",
    "else:\n",
    "    median = elements[len(elements)//2]\n",
    "\n",
    "print(\"Median:\", median)\n",
    "\n",
    "frequency = {}\n",
    "for i in elements:\n",
    "    if i in frequency:\n",
    "        frequency[i] += 1\n",
    "    else:\n",
    "        frequency[i] = 1\n",
    "max_frequency = max(frequency.values())\n",
    "mode = []\n",
    "for n in frequency:\n",
    "    if frequency[n] == max_frequency:\n",
    "        mode.append(n)\n",
    "\n",
    "print(\"Mode:\", mode)\n",
    "\n",
    "sliced_lists = []\n",
    "start = 0\n",
    "for i in range(5):\n",
    "    sublist = elements[start:start+5]\n",
    "    sliced_lists.append(sublist)\n",
    "    start += 5\n",
    "print(\"\\nSliced List: \")\n",
    "for sublist in sliced_lists:\n",
    "    print(sublist)\n",
    "\n",
    "odd_index_lists = []\n",
    "even_index_lists = []\n",
    "\n",
    "for i in range(len(sliced_lists)):\n",
    "    if i % 2 == 0:\n",
    "        odd_index_lists.append(sliced_lists[i])\n",
    "    else:\n",
    "        even_index_lists.append(sliced_lists[i])\n",
    "\n",
    "print(\"\\nOdd Sliced List: \")\n",
    "for odd_list in odd_index_lists:\n",
    "    print(odd_list)\n",
    "\n",
    "print(\"\\nEven Sliced List: \")\n",
    "for even_list in even_index_lists:\n",
    "    print(even_list)"
   ]
  },
  {
   "cell_type": "markdown",
   "id": "a1312ff5-1e7b-4e16-9ff6-253e5f3192ac",
   "metadata": {},
   "source": [
    "### Q9. Write a program to take numbers as command line arguments and print their sum."
   ]
  },
  {
   "cell_type": "code",
   "execution_count": 51,
   "id": "121fa35b-7642-4d8a-8f42-5abf8367c592",
   "metadata": {},
   "outputs": [
    {
     "ename": "TypeError",
     "evalue": "'int' object is not callable",
     "output_type": "error",
     "traceback": [
      "\u001b[1;31m---------------------------------------------------------------------------\u001b[0m",
      "\u001b[1;31mTypeError\u001b[0m                                 Traceback (most recent call last)",
      "Cell \u001b[1;32mIn[51], line 4\u001b[0m\n\u001b[0;32m      1\u001b[0m \u001b[38;5;28;01mimport\u001b[39;00m \u001b[38;5;21;01msys\u001b[39;00m\n\u001b[0;32m      3\u001b[0m \u001b[38;5;28;01mif\u001b[39;00m \u001b[38;5;28mlen\u001b[39m(sys\u001b[38;5;241m.\u001b[39margv) \u001b[38;5;241m>\u001b[39m \u001b[38;5;241m1\u001b[39m:\n\u001b[1;32m----> 4\u001b[0m     sum1 \u001b[38;5;241m=\u001b[39m \u001b[38;5;28msum\u001b[39m(\u001b[38;5;28mfloat\u001b[39m(arg) \u001b[38;5;28;01mfor\u001b[39;00m arg \u001b[38;5;129;01min\u001b[39;00m sys\u001b[38;5;241m.\u001b[39margv[\u001b[38;5;241m1\u001b[39m:])\n\u001b[0;32m      5\u001b[0m     \u001b[38;5;28mprint\u001b[39m(\u001b[38;5;124m\"\u001b[39m\u001b[38;5;124mSum of command line numbers:\u001b[39m\u001b[38;5;124m\"\u001b[39m, sum1)\n\u001b[0;32m      6\u001b[0m \u001b[38;5;28;01melse\u001b[39;00m:\n",
      "\u001b[1;31mTypeError\u001b[0m: 'int' object is not callable"
     ]
    }
   ],
   "source": [
    "import sys\n",
    "\n",
    "if len(sys.argv) > 1:\n",
    "    sum1 = sum(float(arg) for arg in sys.argv[1:])\n",
    "    print(\"Sum of command line numbers:\", sum1)\n",
    "else:\n",
    "    print(\"No command line arguments provided.\")"
   ]
  },
  {
   "cell_type": "code",
   "execution_count": null,
   "id": "35c3da41-0d12-4796-9af1-2060b78b906e",
   "metadata": {},
   "outputs": [],
   "source": []
  },
  {
   "cell_type": "code",
   "execution_count": null,
   "id": "7b47a10e-e5e1-49dc-88e7-c73b86400378",
   "metadata": {},
   "outputs": [],
   "source": []
  }
 ],
 "metadata": {
  "kernelspec": {
   "display_name": "Python 3 (ipykernel)",
   "language": "python",
   "name": "python3"
  },
  "language_info": {
   "codemirror_mode": {
    "name": "ipython",
    "version": 3
   },
   "file_extension": ".py",
   "mimetype": "text/x-python",
   "name": "python",
   "nbconvert_exporter": "python",
   "pygments_lexer": "ipython3",
   "version": "3.12.4"
  }
 },
 "nbformat": 4,
 "nbformat_minor": 5
}
